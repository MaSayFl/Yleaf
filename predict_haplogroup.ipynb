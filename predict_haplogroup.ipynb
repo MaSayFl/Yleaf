{
 "cells": [
  {
   "cell_type": "code",
   "execution_count": 285,
   "metadata": {},
   "outputs": [],
   "source": [
    "import pandas as pd\n",
    "import numpy as np\n",
    "import collections\n",
    "import operator"
   ]
  },
  {
   "cell_type": "code",
   "execution_count": 286,
   "metadata": {},
   "outputs": [],
   "source": [
    "## Here goes the implementation for predicing haplogroups"
   ]
  },
  {
   "cell_type": "code",
   "execution_count": 287,
   "metadata": {},
   "outputs": [],
   "source": [
    "df_intermediate = pd.read_csv(\"Hg_Prediction_tables/Intermediates.txt\", header=None)\n",
    "intermediates = df_intermediate[0].values"
   ]
  },
  {
   "cell_type": "code",
   "execution_count": 288,
   "metadata": {},
   "outputs": [],
   "source": [
    "sample_name = \"Output_example_datasets/Modern_DNA_WGS/HG00190/HG00190.out\"\n",
    "df_haplogroup = pd.read_csv(sample_name, sep=\"\\t\")\n",
    "#df_haplogroup = pd.read_csv(\"Output_example_datasets/Modern_DNA_WGS/HG00634/HG00634.out\", sep=\"\\t\")"
   ]
  },
  {
   "cell_type": "code",
   "execution_count": 289,
   "metadata": {},
   "outputs": [],
   "source": [
    "df_haplogroup = df_haplogroup.sort_values(by=['haplogroup'])"
   ]
  },
  {
   "cell_type": "markdown",
   "metadata": {},
   "source": [
    "### Derive State\n",
    "\n",
    "#### Removes the intermediate haplogroups temporally"
   ]
  },
  {
   "cell_type": "code",
   "execution_count": 290,
   "metadata": {},
   "outputs": [],
   "source": [
    "df_derived = df_haplogroup[df_haplogroup[\"state\"] == \"D\"]"
   ]
  },
  {
   "cell_type": "code",
   "execution_count": 291,
   "metadata": {},
   "outputs": [],
   "source": [
    "## instance with only D state\n",
    "df_tmp = df_derived\n",
    "for hg in intermediates:    \n",
    "    df_tmp = df_tmp.drop(df_tmp[df_tmp.haplogroup == hg].index)\n",
    "hg = df_tmp[\"haplogroup\"].values"
   ]
  },
  {
   "cell_type": "markdown",
   "metadata": {},
   "source": [
    "#### Choose the haplogroup based on the highest count in the first letter (E.x. J2a21 = J)"
   ]
  },
  {
   "cell_type": "code",
   "execution_count": 292,
   "metadata": {},
   "outputs": [],
   "source": [
    "list_hg = []\n",
    "for i in hg:\n",
    "    list_hg.append(i)\n",
    "collections_hg = collections.Counter(list_hg)"
   ]
  },
  {
   "cell_type": "code",
   "execution_count": 297,
   "metadata": {},
   "outputs": [],
   "source": [
    "init_hg = max(collections_hg.items(), key=operator.itemgetter(1))[0]\n",
    "init_hg = init_hg[0]\n",
    "tmp_init_hg = init_hg+\"_int.txt\"\n",
    "hg_intermediate_file = \"Hg_Prediction_tables/\"+tmp_init_hg\n",
    "df_intermediate = pd.read_csv(hg_intermediate_file, header=None, sep=\"\\t\")"
   ]
  },
  {
   "cell_type": "markdown",
   "metadata": {},
   "source": [
    "### QC.1 \n",
    "Now you have the putative haplogroup. Open the file with the haplogroup intermediate and show the intermediate haplogroups again and compare if there are some where does not match with the correct state and store it a error. Give the estimate of the  correct_count/total  \n",
    "\n",
    "$$QC1 = \\frac{correct state } {total}$$\n",
    "\n",
    "where \n",
    "###### correct state is the total number of correct haplogroup state found in the intermediate haplogroup file\n",
    "###### total of all intermediate haplogroup found in the intermediate haplogroup file"
   ]
  },
  {
   "cell_type": "code",
   "execution_count": 298,
   "metadata": {},
   "outputs": [],
   "source": [
    "total = 0\n",
    "correct_state = 0\n",
    "for i in df_intermediate.values:\n",
    "    tmp = df_derived.loc[df_derived[\"haplogroup\"] == i[0]]\n",
    "    if not tmp.empty:        \n",
    "        correct_state += np.sum(i[1] == tmp[\"state\"])                                                \n",
    "        total += len(tmp)           \n",
    "qc_one = round((correct_state / total),3)"
   ]
  },
  {
   "cell_type": "markdown",
   "metadata": {},
   "source": [
    "Removes all haplogroup but the main one\n",
    "Check if the preffix of all main haplogroup with D state by allowing one haplogroup that does not match to the main haplogroup until you get back to the origin. \n",
    "If mismatch > 1 skip choose as main haplogroup the following in the largest length and continue. In case haplogroup contains ~ symbol at the end ignore it temporally for preffix comparison but if this is the main haplogroup store the special character at the end. "
   ]
  },
  {
   "cell_type": "code",
   "execution_count": 299,
   "metadata": {},
   "outputs": [],
   "source": [
    "list_main_hg = []\n",
    "for i in hg:    \n",
    "    if i.startswith(init_hg):\n",
    "        list_main_hg.append(i)\n",
    "list_main_hg = sorted(list(set(list_main_hg)), reverse=True)\n",
    "putative_hg = \"\"\n",
    "max_mismatch = 2\n",
    "for i in range(len(list_main_hg)-1):\n",
    "    mismatch = 0    \n",
    "    for j in range(i,len(list_main_hg)):                \n",
    "        current_hg = list_main_hg[i]            \n",
    "        next_hg    = list_main_hg[j]\n",
    "        current_hg = current_hg.replace(\"~\",\"\")\n",
    "        next_hg    = next_hg.replace(\"~\",\"\")        \n",
    "        if not next_hg in current_hg:\n",
    "            mismatch += 1    \n",
    "        if mismatch >= max_mismatch:\n",
    "            break\n",
    "    if mismatch < max_mismatch:\n",
    "        putative_hg = list_main_hg[i]        \n",
    "        break\n"
   ]
  },
  {
   "cell_type": "markdown",
   "metadata": {},
   "source": [
    "### Ancestral and Derive State"
   ]
  },
  {
   "cell_type": "markdown",
   "metadata": {},
   "source": [
    "### QC.2\n",
    "\n",
    "Check if the same name of the main haplogroup appears as an Ancestral State and save the number of count and calculate QC2:\n",
    "\n",
    "$$QC2 = \\frac{Dhg-Ahg} {total}$$\n",
    "where \n",
    "###### Dhg is the total number of derived main haplogroup \n",
    "###### Ahg is the total number of ancestral with same name of main haplogroup\n",
    "###### total of all derived and ancestral haplogroup with the same name"
   ]
  },
  {
   "cell_type": "code",
   "execution_count": 300,
   "metadata": {},
   "outputs": [],
   "source": [
    "total_qctwo = len(df_haplogroup.loc[df_haplogroup[\"haplogroup\"] == putative_hg])\n",
    "Ahg = np.sum(\"A\" == df_haplogroup.loc[df_haplogroup[\"haplogroup\"] == putative_hg][\"state\"])\n",
    "qc_two = round((total_qctwo-Ahg)/total_qctwo,3)"
   ]
  },
  {
   "cell_type": "markdown",
   "metadata": {},
   "source": [
    "### QC.3\n",
    "Show both Ancestral and Derived states from the main haplogroup and check the preffix of each haplogroup that is before the main one until you reach the root. If there are some Ancestral states which follows the pattern/preffix from the main haplogroup keep the count of how many of these appear and this will give the total count. Substract the ones found from the corrected and this will give the QC.3 score. "
   ]
  },
  {
   "cell_type": "code",
   "execution_count": 301,
   "metadata": {},
   "outputs": [],
   "source": [
    "list_main_hg_all = []\n",
    "list_hg_all = df_haplogroup[\"haplogroup\"].values\n",
    "for i in list_hg_all:    \n",
    "    if i.startswith(init_hg):\n",
    "        list_main_hg_all.append(i)\n",
    "list_main_hg_all = sorted(list(set(list_main_hg_all)), reverse=True)\n",
    "df_main_hg_all = df_haplogroup.loc[df_haplogroup[\"haplogroup\"].isin(list_main_hg_all)]\n",
    "df_main_hg_all = df_main_hg_all[[\"haplogroup\",\"state\",\"marker_name\"]]\n",
    "df_main_hg_all = df_main_hg_all.sort_values(by=\"haplogroup\", ascending=False).values"
   ]
  },
  {
   "cell_type": "code",
   "execution_count": 302,
   "metadata": {},
   "outputs": [],
   "source": [
    "a_match = 0\n",
    "total_match = 0\n",
    "for i in df_main_hg_all:\n",
    "    tmp_hg = i[0].replace(\"~\",\"\")\n",
    "    if tmp_hg in putative_hg:\n",
    "        total_match +=1        \n",
    "        if i[1] == \"A\":\n",
    "            a_match += 1\n",
    "qc_three = round((total_match - a_match) / total_match,3)"
   ]
  },
  {
   "cell_type": "markdown",
   "metadata": {},
   "source": [
    "### Final output\n",
    "1) show the haplogroup name \n",
    "    if main haplogroup is a preffix from a higher resolution Ancestral state haplogroup report this haplogroup and marker name (Ex. HG: J21a Marker: L123)\n",
    "    \n",
    "2) Not J21a-L123\n",
    "\n",
    "Could be that that there are more than one contain as a preffix from an ancestral state haplogroup. Should report all of them only if there are different haplogroup name with the resolution\n",
    "**Check this in more detail later on... "
   ]
  },
  {
   "cell_type": "code",
   "execution_count": 303,
   "metadata": {},
   "outputs": [],
   "source": [
    "df_putative_ancestral_hg = pd.DataFrame()\n",
    "for i in df_main_hg_all:    \n",
    "    if i[0] == putative_hg:\n",
    "        break\n",
    "    if putative_hg in i[0]:     \n",
    "        tmp = pd.DataFrame([i], columns=[\"haplogroup\",\"state\",\"marker\"])        \n",
    "        df_putative_ancestral_hg = df_putative_ancestral_hg.append(tmp)        \n",
    "\n",
    "putative_ancestral_hg = []        \n",
    "if not df_putative_ancestral_hg.empty:\n",
    "    df_putative_ancestral_hg = df_putative_ancestral_hg.sort_values(by=\"haplogroup\")\n",
    "    df_putative_ancestral_hg = df_putative_ancestral_hg\n",
    "    df_putative_ancestral_hg.index = range(len(df_putative_ancestral_hg))    \n",
    "    \n",
    "    for i in range(len(df_putative_ancestral_hg)):        \n",
    "        row = df_putative_ancestral_hg.iloc[i]\n",
    "        if putative_ancestral_hg == []:        \n",
    "            putative_ancestral_hg.append(row.values)                    \n",
    "        else:        \n",
    "            if putative_ancestral_hg[-1][0] not in row[0]:\n",
    "                putative_ancestral_hg.append(row.values)                                  \n",
    "    putative_ancestral_hg = np.array(putative_ancestral_hg)"
   ]
  },
  {
   "cell_type": "code",
   "execution_count": 304,
   "metadata": {},
   "outputs": [
    {
     "name": "stdout",
     "output_type": "stream",
     "text": [
      "Sample_name\tHg\tHg_marker\tQC-score\tQC-1\tQC-2\tQC-3\n",
      "HG00190\tI1a1b1b1b1~-CTS2783\tI1a1b1b1b1~-CTS2783\t1.0\t1.0\t1.0\t1.0\n"
     ]
    }
   ],
   "source": [
    "out_name = sample_name.split(\"/\")[-1]\n",
    "out_name = out_name.split(\".\")[0]\n",
    "for i in df_derived.loc[df_derived[\"haplogroup\"] == putative_hg].values:\n",
    "    out_hg = (\"{}-{}\".format(i[3],i[2]))\n",
    "    break\n",
    "\n",
    "header = \"Sample_name\\tHg\\tHg_marker\\tQC-score\\tQC-1\\tQC-2\\tQC-3\"\n",
    "\n",
    "out_marker = out_hg\n",
    "if len(putative_ancestral_hg) > 0:\n",
    "    out_marker += \"*(\"\n",
    "    for pahg in putative_ancestral_hg:        \n",
    "        out_marker += pahg[2]+\",\"\n",
    "    out_marker += \")\"\n",
    "output = \"{}\\t{}\\t{}\\t{}\\t{}\\t{}\\t{}\".format(out_name,out_hg,out_marker,round((qc_one*qc_two*qc_three),3),qc_one,qc_two,qc_three)\n",
    "print(header)\n",
    "print(output)\n"
   ]
  },
  {
   "cell_type": "code",
   "execution_count": null,
   "metadata": {},
   "outputs": [],
   "source": []
  },
  {
   "cell_type": "code",
   "execution_count": null,
   "metadata": {},
   "outputs": [],
   "source": []
  },
  {
   "cell_type": "code",
   "execution_count": null,
   "metadata": {},
   "outputs": [],
   "source": []
  },
  {
   "cell_type": "code",
   "execution_count": null,
   "metadata": {},
   "outputs": [],
   "source": []
  },
  {
   "cell_type": "code",
   "execution_count": null,
   "metadata": {},
   "outputs": [],
   "source": []
  }
 ],
 "metadata": {
  "kernelspec": {
   "display_name": "Python 3",
   "language": "python",
   "name": "python3"
  },
  "language_info": {
   "codemirror_mode": {
    "name": "ipython",
    "version": 3
   },
   "file_extension": ".py",
   "mimetype": "text/x-python",
   "name": "python",
   "nbconvert_exporter": "python",
   "pygments_lexer": "ipython3",
   "version": "3.6.5"
  }
 },
 "nbformat": 4,
 "nbformat_minor": 2
}
