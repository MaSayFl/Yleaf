{
 "cells": [
  {
   "cell_type": "code",
   "execution_count": 1,
   "metadata": {},
   "outputs": [],
   "source": [
    "import pandas as pd\n",
    "import numpy as np\n",
    "import re"
   ]
  },
  {
   "cell_type": "code",
   "execution_count": null,
   "metadata": {},
   "outputs": [],
   "source": []
  },
  {
   "cell_type": "code",
   "execution_count": null,
   "metadata": {},
   "outputs": [],
   "source": [
    "## Here goes the implementation for predicing haplogroups"
   ]
  },
  {
   "cell_type": "code",
   "execution_count": 28,
   "metadata": {},
   "outputs": [],
   "source": [
    "df_haplogroup = pd.read_csv(\"Output_example_datasets/Modern_DNA_WGS/HG003/HG003.out\", sep=\"\\t\")"
   ]
  },
  {
   "cell_type": "code",
   "execution_count": null,
   "metadata": {},
   "outputs": [],
   "source": [
    "df_haplogroup = df_haplogroup.sort_values(by=['haplogroup'])"
   ]
  },
  {
   "cell_type": "code",
   "execution_count": 35,
   "metadata": {},
   "outputs": [
    {
     "data": {
      "text/html": [
       "<div>\n",
       "<style scoped>\n",
       "    .dataframe tbody tr th:only-of-type {\n",
       "        vertical-align: middle;\n",
       "    }\n",
       "\n",
       "    .dataframe tbody tr th {\n",
       "        vertical-align: top;\n",
       "    }\n",
       "\n",
       "    .dataframe thead th {\n",
       "        text-align: right;\n",
       "    }\n",
       "</style>\n",
       "<table border=\"1\" class=\"dataframe\">\n",
       "  <thead>\n",
       "    <tr style=\"text-align: right;\">\n",
       "      <th></th>\n",
       "      <th>chr</th>\n",
       "      <th>pos</th>\n",
       "      <th>marker_name</th>\n",
       "      <th>haplogroup</th>\n",
       "      <th>mutation</th>\n",
       "      <th>anc</th>\n",
       "      <th>der</th>\n",
       "      <th>reads</th>\n",
       "      <th>call_perc</th>\n",
       "      <th>called_base</th>\n",
       "      <th>state</th>\n",
       "    </tr>\n",
       "  </thead>\n",
       "  <tbody>\n",
       "    <tr>\n",
       "      <th>17918</th>\n",
       "      <td>chrY</td>\n",
       "      <td>19047091</td>\n",
       "      <td>L1137</td>\n",
       "      <td>A0-T</td>\n",
       "      <td>C-&gt;T</td>\n",
       "      <td>C</td>\n",
       "      <td>T</td>\n",
       "      <td>30</td>\n",
       "      <td>100</td>\n",
       "      <td>T</td>\n",
       "      <td>D</td>\n",
       "    </tr>\n",
       "    <tr>\n",
       "      <th>15596</th>\n",
       "      <td>chrY</td>\n",
       "      <td>18147303</td>\n",
       "      <td>L1135</td>\n",
       "      <td>A0-T</td>\n",
       "      <td>C-&gt;A</td>\n",
       "      <td>C</td>\n",
       "      <td>A</td>\n",
       "      <td>19</td>\n",
       "      <td>100</td>\n",
       "      <td>A</td>\n",
       "      <td>D</td>\n",
       "    </tr>\n",
       "    <tr>\n",
       "      <th>30724</th>\n",
       "      <td>chrY</td>\n",
       "      <td>3544962</td>\n",
       "      <td>L1090</td>\n",
       "      <td>A0-T</td>\n",
       "      <td>G-&gt;C</td>\n",
       "      <td>G</td>\n",
       "      <td>C</td>\n",
       "      <td>29</td>\n",
       "      <td>100</td>\n",
       "      <td>C</td>\n",
       "      <td>D</td>\n",
       "    </tr>\n",
       "    <tr>\n",
       "      <th>22557</th>\n",
       "      <td>chrY</td>\n",
       "      <td>21739790</td>\n",
       "      <td>L1145</td>\n",
       "      <td>A0-T</td>\n",
       "      <td>C-&gt;T</td>\n",
       "      <td>C</td>\n",
       "      <td>T</td>\n",
       "      <td>20</td>\n",
       "      <td>100</td>\n",
       "      <td>T</td>\n",
       "      <td>D</td>\n",
       "    </tr>\n",
       "    <tr>\n",
       "      <th>29663</th>\n",
       "      <td>chrY</td>\n",
       "      <td>2790726</td>\n",
       "      <td>L1085</td>\n",
       "      <td>A0-T</td>\n",
       "      <td>T-&gt;C</td>\n",
       "      <td>T</td>\n",
       "      <td>C</td>\n",
       "      <td>29</td>\n",
       "      <td>100</td>\n",
       "      <td>C</td>\n",
       "      <td>D</td>\n",
       "    </tr>\n",
       "  </tbody>\n",
       "</table>\n",
       "</div>"
      ],
      "text/plain": [
       "        chr       pos marker_name haplogroup mutation anc der  reads  \\\n",
       "17918  chrY  19047091       L1137       A0-T     C->T   C   T     30   \n",
       "15596  chrY  18147303       L1135       A0-T     C->A   C   A     19   \n",
       "30724  chrY   3544962       L1090       A0-T     G->C   G   C     29   \n",
       "22557  chrY  21739790       L1145       A0-T     C->T   C   T     20   \n",
       "29663  chrY   2790726       L1085       A0-T     T->C   T   C     29   \n",
       "\n",
       "       call_perc called_base state  \n",
       "17918        100           T     D  \n",
       "15596        100           A     D  \n",
       "30724        100           C     D  \n",
       "22557        100           T     D  \n",
       "29663        100           C     D  "
      ]
     },
     "execution_count": 35,
     "metadata": {},
     "output_type": "execute_result"
    }
   ],
   "source": [
    "df_haplogroup[df_haplogroup[\"state\"] == \"D\"].head()"
   ]
  },
  {
   "cell_type": "markdown",
   "metadata": {},
   "source": [
    "### Derive State\n",
    "\n",
    "#### Removes the intermediate haplogroups temporally"
   ]
  },
  {
   "cell_type": "code",
   "execution_count": null,
   "metadata": {},
   "outputs": [],
   "source": []
  },
  {
   "cell_type": "code",
   "execution_count": null,
   "metadata": {},
   "outputs": [],
   "source": []
  },
  {
   "cell_type": "code",
   "execution_count": null,
   "metadata": {},
   "outputs": [],
   "source": []
  },
  {
   "cell_type": "markdown",
   "metadata": {},
   "source": [
    "#### Choose the haplogroup based on the highest count in the first letter (E.x. J2a21 = J)"
   ]
  },
  {
   "cell_type": "code",
   "execution_count": null,
   "metadata": {},
   "outputs": [],
   "source": []
  },
  {
   "cell_type": "markdown",
   "metadata": {},
   "source": [
    "### QC.1 \n",
    "Now you have the haplogroup open the file with the haplogroup intermediate and show the intermediate haplogroups again and compare if there are some where does not match with the correct state and store it a error. Give the estimate of the  correct_count/total  \n",
    "\n",
    "$$QC1 = \\frac{correct state} {total}$$\n",
    "\n",
    "where \n",
    "###### correct state is the total number of correct haplogroup state found in the intermediate haplogroup file\n",
    "###### total of all intermediate haplogroup found in the intermediate haplogroup file"
   ]
  },
  {
   "cell_type": "code",
   "execution_count": null,
   "metadata": {},
   "outputs": [],
   "source": []
  },
  {
   "cell_type": "markdown",
   "metadata": {},
   "source": [
    "Removes all haplogroup but the main one\n",
    "Check if the preffix of all main haplogroup with D state by allowing one haplogroup that does not match to the main haplogroup until you get back to the origin. \n",
    "If mismatch > 1 skip choose as main haplogroup the following in the largest length and continue. In case haplogroup contains ~ symbol at the end ignore it temporally for preffix comparison but if this is the main haplogroup store the special character at the end. "
   ]
  },
  {
   "cell_type": "code",
   "execution_count": null,
   "metadata": {},
   "outputs": [],
   "source": []
  },
  {
   "cell_type": "markdown",
   "metadata": {},
   "source": [
    "### Ancenstral and Derive State"
   ]
  },
  {
   "cell_type": "markdown",
   "metadata": {},
   "source": [
    "### QC.2\n",
    "\n",
    "Check if the same name of the main haplogroup appears as an Ancestral State and save the number of count and calculate QC2:\n",
    "\n",
    "$$QC2 = \\frac{Dhg-Ahg} {total}$$\n",
    "where \n",
    "###### Dhg is the total number of derived main haplogroup \n",
    "###### Ahg is the total number of ancestral with same name of main haplogroup\n",
    "###### total of all derived and ancestral haplogroup with the same name"
   ]
  },
  {
   "cell_type": "code",
   "execution_count": null,
   "metadata": {},
   "outputs": [],
   "source": []
  },
  {
   "cell_type": "markdown",
   "metadata": {},
   "source": [
    "### QC.3\n",
    "Show both Ancestral and Derived states from the main haplogroup and check the preffix of each haplogroup that is before the main one until you reach the root. If there are some Ancestral states which follows the pattern/preffix from the main haplogroup keep the count of how many of these appear and this will give the total count. Substract the ones found from the corrected and this will give the QC.3 score. "
   ]
  },
  {
   "cell_type": "code",
   "execution_count": null,
   "metadata": {},
   "outputs": [],
   "source": []
  },
  {
   "cell_type": "markdown",
   "metadata": {},
   "source": [
    "### Final output\n",
    "1) show the haplogroup name \n",
    "    if main haplogroup is a preffix from a higher resolution Ancestral state haplogroup report this haplogroup and marker name (Ex. HG: J21a Marker: L123)\n",
    "    \n",
    "2) Not J21a-L123\n",
    "\n",
    "Could be that that there are more than one contain as a preffix from an ancestral state haplogroup. Should report all of them only if there are different haplogroup name with the resolution\n",
    "## Check this more in detail later on... "
   ]
  },
  {
   "cell_type": "code",
   "execution_count": null,
   "metadata": {},
   "outputs": [],
   "source": []
  },
  {
   "cell_type": "code",
   "execution_count": null,
   "metadata": {},
   "outputs": [],
   "source": []
  },
  {
   "cell_type": "code",
   "execution_count": null,
   "metadata": {},
   "outputs": [],
   "source": []
  }
 ],
 "metadata": {
  "kernelspec": {
   "display_name": "Python [default]",
   "language": "python",
   "name": "python3"
  },
  "language_info": {
   "codemirror_mode": {
    "name": "ipython",
    "version": 3
   },
   "file_extension": ".py",
   "mimetype": "text/x-python",
   "name": "python",
   "nbconvert_exporter": "python",
   "pygments_lexer": "ipython3",
   "version": "3.6.8"
  }
 },
 "nbformat": 4,
 "nbformat_minor": 2
}
