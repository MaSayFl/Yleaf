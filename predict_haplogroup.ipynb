{
 "cells": [
  {
   "cell_type": "code",
   "execution_count": 148,
   "metadata": {},
   "outputs": [],
   "source": [
    "import pandas as pd\n",
    "import numpy as np\n",
    "import collections\n",
    "import operator\n",
    "import re"
   ]
  },
  {
   "cell_type": "code",
   "execution_count": null,
   "metadata": {},
   "outputs": [],
   "source": [
    "## Here goes the implementation for predicing haplogroups"
   ]
  },
  {
   "cell_type": "code",
   "execution_count": 68,
   "metadata": {},
   "outputs": [],
   "source": [
    "df_intermediate = pd.read_csv(\"Hg_Prediction_tables/Intermediates.txt\", header=None)\n",
    "intermediates = df_intermediate[0].values"
   ]
  },
  {
   "cell_type": "code",
   "execution_count": 51,
   "metadata": {},
   "outputs": [],
   "source": [
    "df_haplogroup = pd.read_csv(\"Output_example_datasets/Modern_DNA_WGS/HG003/HG003.out\", sep=\"\\t\")"
   ]
  },
  {
   "cell_type": "code",
   "execution_count": 52,
   "metadata": {},
   "outputs": [],
   "source": [
    "df_haplogroup = df_haplogroup.sort_values(by=['haplogroup'])"
   ]
  },
  {
   "cell_type": "code",
   "execution_count": 53,
   "metadata": {},
   "outputs": [
    {
     "data": {
      "text/plain": [
       "array(['A00-T', 'A000-T', 'A0-T', 'A1', 'A1b', 'BT', 'CT', 'CF', 'DE',\n",
       "       'F', 'GHIJK', 'HIJK', 'IJK', 'IJ', 'NO', 'NO1', 'LT', 'K', 'K~',\n",
       "       'K2', 'P', 'P~', 'P1', 'P1~'], dtype=object)"
      ]
     },
     "execution_count": 53,
     "metadata": {},
     "output_type": "execute_result"
    }
   ],
   "source": [
    "df_intermediate"
   ]
  },
  {
   "cell_type": "markdown",
   "metadata": {},
   "source": [
    "### Derive State\n",
    "\n",
    "#### Removes the intermediate haplogroups temporally"
   ]
  },
  {
   "cell_type": "code",
   "execution_count": 54,
   "metadata": {},
   "outputs": [],
   "source": [
    "df_derived = df_haplogroup[df_haplogroup[\"state\"] == \"D\"]"
   ]
  },
  {
   "cell_type": "code",
   "execution_count": 181,
   "metadata": {},
   "outputs": [],
   "source": [
    "## instance with only D state\n",
    "df_tmp = df_derived\n",
    "for hg in intermediates:    \n",
    "    df_tmp = df_tmp.drop(df_tmp[df_tmp.haplogroup == hg].index)\n",
    "hg = df_tmp[\"haplogroup\"].values"
   ]
  },
  {
   "cell_type": "markdown",
   "metadata": {},
   "source": [
    "#### Choose the haplogroup based on the highest count in the first letter (E.x. J2a21 = J)"
   ]
  },
  {
   "cell_type": "code",
   "execution_count": 182,
   "metadata": {},
   "outputs": [],
   "source": [
    "list_hg = []\n",
    "for i in hg:\n",
    "    list_hg.append(i[0])\n",
    "collections_hg = collections.Counter(list_hg)"
   ]
  },
  {
   "cell_type": "code",
   "execution_count": 208,
   "metadata": {},
   "outputs": [],
   "source": [
    "init_hg = max(collections_hg.items(), key=operator.itemgetter(1))[0]\n",
    "init_hg = init_hg+\"_int.txt\"\n",
    "hg_intermediate_file = \"Hg_Prediction_tables/\"+init_hg\n",
    "df_intermediate = pd.read_csv(hg_intermediate_file, header=None, sep=\"\\t\")\n",
    "#df_intermediate = df_intermediate.values"
   ]
  },
  {
   "cell_type": "code",
   "execution_count": null,
   "metadata": {},
   "outputs": [],
   "source": []
  },
  {
   "cell_type": "markdown",
   "metadata": {},
   "source": [
    "### QC.1 \n",
    "Now you have the putative haplogroup. Open the file with the haplogroup intermediate and show the intermediate haplogroups again and compare if there are some where does not match with the correct state and store it a error. Give the estimate of the  correct_count/total  \n",
    "\n",
    "$$QC1 = \\frac{correct state } {total}$$\n",
    "\n",
    "where \n",
    "###### correct state is the total number of correct haplogroup state found in the intermediate haplogroup file\n",
    "###### total of all intermediate haplogroup found in the intermediate haplogroup file"
   ]
  },
  {
   "cell_type": "code",
   "execution_count": 219,
   "metadata": {},
   "outputs": [
    {
     "name": "stdout",
     "output_type": "stream",
     "text": [
      "         0  1\n",
      "0    A00-T  D\n",
      "1   A000-T  D\n",
      "2     A0-T  D\n",
      "3       A1  D\n",
      "4      A1b  D\n",
      "5       BT  D\n",
      "6       CT  D\n",
      "7       CF  D\n",
      "8       DE  A\n",
      "9        F  D\n",
      "10   GHIJK  D\n",
      "11    HIJK  D\n",
      "12     IJK  D\n",
      "13      IJ  D\n",
      "14      NO  A\n",
      "15     NO1  A\n",
      "16      LT  A\n",
      "17       K  A\n",
      "18      K~  A\n",
      "19      K2  A\n",
      "20       P  A\n",
      "21      P~  A\n",
      "22      P1  A\n",
      "23     P1~  A\n",
      "0      A00-T\n",
      "1     A000-T\n",
      "2       A0-T\n",
      "3         A1\n",
      "4        A1b\n",
      "5         BT\n",
      "6         CT\n",
      "7         CF\n",
      "8         DE\n",
      "9          F\n",
      "10     GHIJK\n",
      "11      HIJK\n",
      "12       IJK\n",
      "13        IJ\n",
      "14        NO\n",
      "15       NO1\n",
      "16        LT\n",
      "17         K\n",
      "18        K~\n",
      "19        K2\n",
      "20         P\n",
      "21        P~\n",
      "22        P1\n",
      "23       P1~\n",
      "Name: 0, dtype: object\n",
      "0\n"
     ]
    }
   ],
   "source": [
    "print(df_intermediate)\n",
    "total = 0\n",
    "for i in df_intermediate:\n",
    "    print(df_intermediate[i])\n",
    "    break\n",
    "    #df_tmp = df_derived.loc[df_derived[\"haplogroup\"] == i]\n",
    "    #total += df_tmp.shape[0]\n",
    "    #if total > 0:\n",
    "    #    print(df_tmp)\n",
    "    #    print(df_intermediate[0] == )\n",
    "    #    break\n",
    "print(total)\n"
   ]
  },
  {
   "cell_type": "code",
   "execution_count": null,
   "metadata": {},
   "outputs": [],
   "source": []
  },
  {
   "cell_type": "code",
   "execution_count": null,
   "metadata": {},
   "outputs": [],
   "source": []
  },
  {
   "cell_type": "markdown",
   "metadata": {},
   "source": [
    "Removes all haplogroup but the main one\n",
    "Check if the preffix of all main haplogroup with D state by allowing one haplogroup that does not match to the main haplogroup until you get back to the origin. \n",
    "If mismatch > 1 skip choose as main haplogroup the following in the largest length and continue. In case haplogroup contains ~ symbol at the end ignore it temporally for preffix comparison but if this is the main haplogroup store the special character at the end. "
   ]
  },
  {
   "cell_type": "code",
   "execution_count": null,
   "metadata": {},
   "outputs": [],
   "source": []
  },
  {
   "cell_type": "markdown",
   "metadata": {},
   "source": [
    "### Ancenstral and Derive State"
   ]
  },
  {
   "cell_type": "markdown",
   "metadata": {},
   "source": [
    "### QC.2\n",
    "\n",
    "Check if the same name of the main haplogroup appears as an Ancestral State and save the number of count and calculate QC2:\n",
    "\n",
    "$$QC2 = \\frac{Dhg-Ahg} {total}$$\n",
    "where \n",
    "###### Dhg is the total number of derived main haplogroup \n",
    "###### Ahg is the total number of ancestral with same name of main haplogroup\n",
    "###### total of all derived and ancestral haplogroup with the same name"
   ]
  },
  {
   "cell_type": "code",
   "execution_count": null,
   "metadata": {},
   "outputs": [],
   "source": []
  },
  {
   "cell_type": "markdown",
   "metadata": {},
   "source": [
    "### QC.3\n",
    "Show both Ancestral and Derived states from the main haplogroup and check the preffix of each haplogroup that is before the main one until you reach the root. If there are some Ancestral states which follows the pattern/preffix from the main haplogroup keep the count of how many of these appear and this will give the total count. Substract the ones found from the corrected and this will give the QC.3 score. "
   ]
  },
  {
   "cell_type": "code",
   "execution_count": null,
   "metadata": {},
   "outputs": [],
   "source": []
  },
  {
   "cell_type": "markdown",
   "metadata": {},
   "source": [
    "### Final output\n",
    "1) show the haplogroup name \n",
    "    if main haplogroup is a preffix from a higher resolution Ancestral state haplogroup report this haplogroup and marker name (Ex. HG: J21a Marker: L123)\n",
    "    \n",
    "2) Not J21a-L123\n",
    "\n",
    "Could be that that there are more than one contain as a preffix from an ancestral state haplogroup. Should report all of them only if there are different haplogroup name with the resolution\n",
    "## Check this more in detail later on... "
   ]
  },
  {
   "cell_type": "code",
   "execution_count": null,
   "metadata": {},
   "outputs": [],
   "source": []
  },
  {
   "cell_type": "code",
   "execution_count": null,
   "metadata": {},
   "outputs": [],
   "source": []
  },
  {
   "cell_type": "code",
   "execution_count": null,
   "metadata": {},
   "outputs": [],
   "source": []
  }
 ],
 "metadata": {
  "kernelspec": {
   "display_name": "Python [default]",
   "language": "python",
   "name": "python3"
  },
  "language_info": {
   "codemirror_mode": {
    "name": "ipython",
    "version": 3
   },
   "file_extension": ".py",
   "mimetype": "text/x-python",
   "name": "python",
   "nbconvert_exporter": "python",
   "pygments_lexer": "ipython3",
   "version": "3.6.8"
  }
 },
 "nbformat": 4,
 "nbformat_minor": 2
}
