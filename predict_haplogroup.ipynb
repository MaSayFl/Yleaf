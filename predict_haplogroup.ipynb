{
 "cells": [
  {
   "cell_type": "code",
   "execution_count": 23,
   "metadata": {},
   "outputs": [],
   "source": [
    "import pandas as pd\n",
    "import numpy as np\n",
    "import collections\n",
    "import operator"
   ]
  },
  {
   "cell_type": "code",
   "execution_count": 24,
   "metadata": {},
   "outputs": [],
   "source": [
    "## Here goes the implementation for predicing haplogroups"
   ]
  },
  {
   "cell_type": "code",
   "execution_count": 25,
   "metadata": {},
   "outputs": [],
   "source": [
    "df_intermediate = pd.read_csv(\"Hg_Prediction_tables/Intermediates.txt\", header=None)\n",
    "intermediates = df_intermediate[0].values"
   ]
  },
  {
   "cell_type": "code",
   "execution_count": 26,
   "metadata": {},
   "outputs": [],
   "source": [
    "sample_name = \"Output_example_datasets/Ancient_DNA_WGS/3DT26/3DT26.out\"\n",
    "df_haplogroup = pd.read_csv(sample_name, sep=\"\\t\")"
   ]
  },
  {
   "cell_type": "code",
   "execution_count": 27,
   "metadata": {},
   "outputs": [],
   "source": [
    "df_haplogroup = df_haplogroup.sort_values(by=['haplogroup'])"
   ]
  },
  {
   "cell_type": "code",
   "execution_count": 28,
   "metadata": {},
   "outputs": [],
   "source": [
    "#df_all = df_haplogroup"
   ]
  },
  {
   "cell_type": "code",
   "execution_count": 29,
   "metadata": {},
   "outputs": [],
   "source": [
    "df_haplogroup['haplogroup'] = df_haplogroup['haplogroup'].str.replace('~', '')"
   ]
  },
  {
   "cell_type": "markdown",
   "metadata": {},
   "source": [
    "### Derive State\n",
    "\n",
    "#### Removes the intermediate haplogroups temporally"
   ]
  },
  {
   "cell_type": "code",
   "execution_count": 30,
   "metadata": {},
   "outputs": [],
   "source": [
    "df_derived = df_haplogroup[df_haplogroup[\"state\"] == \"D\"]"
   ]
  },
  {
   "cell_type": "code",
   "execution_count": 31,
   "metadata": {},
   "outputs": [],
   "source": [
    "## instance with only D state\n",
    "df_tmp = df_derived\n",
    "for hg in intermediates:    \n",
    "    df_tmp = df_tmp.drop(df_tmp[df_tmp.haplogroup == hg].index)\n",
    "hg = df_tmp[\"haplogroup\"].values"
   ]
  },
  {
   "cell_type": "markdown",
   "metadata": {},
   "source": [
    "#### Choose the haplogroup based on the highest count in the first letter (E.x. J2a21 = J)"
   ]
  },
  {
   "cell_type": "code",
   "execution_count": 32,
   "metadata": {},
   "outputs": [],
   "source": [
    "list_hg = []\n",
    "for i in hg:\n",
    "    list_hg.append(i)\n",
    "collections_hg = collections.Counter(list_hg)"
   ]
  },
  {
   "cell_type": "code",
   "execution_count": null,
   "metadata": {},
   "outputs": [],
   "source": []
  },
  {
   "cell_type": "code",
   "execution_count": 33,
   "metadata": {},
   "outputs": [],
   "source": [
    "init_hg = max(collections_hg.items(), key=operator.itemgetter(1))[0]\n",
    "init_hg = init_hg[0]"
   ]
  },
  {
   "cell_type": "code",
   "execution_count": 34,
   "metadata": {},
   "outputs": [],
   "source": [
    "tmp_init_hg = init_hg+\"_int.txt\"\n",
    "hg_intermediate_file = \"Hg_Prediction_tables/\"+tmp_init_hg\n",
    "df_intermediate = pd.read_csv(hg_intermediate_file, header=None, sep=\"\\t\")"
   ]
  },
  {
   "cell_type": "markdown",
   "metadata": {},
   "source": [
    "### QC.1 \n",
    "Now you have the putative haplogroup. Open the file with the haplogroup intermediate and show the intermediate haplogroups again and compare if there are some where does not match with the correct state and store it a error. Give the estimate of the  correct_count/total  \n",
    "\n",
    "$$QC1 = \\frac{correct state } {total}$$\n",
    "\n",
    "where \n",
    "###### correct state is the total number of correct haplogroup state found in the intermediate haplogroup file\n",
    "###### total of all intermediate haplogroup found in the intermediate haplogroup file"
   ]
  },
  {
   "cell_type": "code",
   "execution_count": 35,
   "metadata": {},
   "outputs": [],
   "source": [
    "total = 0\n",
    "correct_state = 0\n",
    "for i in df_intermediate.values:           \n",
    "    tmp = df_haplogroup.loc[df_haplogroup[\"haplogroup\"] == i[0]]    \n",
    "    if not tmp.empty:               \n",
    "        if \"/\" in i[1]:\n",
    "            #i = i[1].split(\"/\")[-1] \n",
    "            correct_state += len(tmp) \n",
    "            total += len(tmp)                           \n",
    "        else:        \n",
    "            correct_state += np.sum(i[1] == tmp[\"state\"])                                                \n",
    "            total += len(tmp)        \n",
    "try:\n",
    "    qc_one = round((correct_state / total),3)\n",
    "except ZeroDivisionError as error:\n",
    "    qc_one = 0.0"
   ]
  },
  {
   "cell_type": "code",
   "execution_count": 36,
   "metadata": {},
   "outputs": [
    {
     "data": {
      "text/plain": [
       "0.998"
      ]
     },
     "execution_count": 36,
     "metadata": {},
     "output_type": "execute_result"
    }
   ],
   "source": [
    "qc_one"
   ]
  },
  {
   "cell_type": "markdown",
   "metadata": {},
   "source": [
    "Removes all haplogroup but the main one\n",
    "Check if the preffix of all main haplogroup with D state by allowing one haplogroup that does not match to the main haplogroup until you get back to the origin. \n",
    "If mismatch > 1 skip choose as main haplogroup the following in the largest length and continue. In case haplogroup contains ~ symbol at the end ignore it temporally for preffix comparison but if this is the main haplogroup store the special character at the end. "
   ]
  },
  {
   "cell_type": "code",
   "execution_count": 37,
   "metadata": {},
   "outputs": [],
   "source": [
    "## Removes intermediate branches\n",
    "df_haplogroup = df_haplogroup[~df_haplogroup.haplogroup.isin(intermediates)]"
   ]
  },
  {
   "cell_type": "code",
   "execution_count": 38,
   "metadata": {},
   "outputs": [],
   "source": [
    "hg = df_derived[(df_derived.haplogroup.str.startswith(init_hg))].haplogroup.values"
   ]
  },
  {
   "cell_type": "markdown",
   "metadata": {},
   "source": [
    "### Ancestral and Derive State"
   ]
  },
  {
   "cell_type": "markdown",
   "metadata": {},
   "source": [
    "### QC.2\n",
    "\n",
    "Check if the same name of the main haplogroup appears as an Ancestral State and save the number of count and calculate QC2:\n",
    "\n",
    "$$QC2 = \\frac{Dhg-Ahg} {total}$$\n",
    "where \n",
    "###### Dhg is the total number of derived main haplogroup \n",
    "###### Ahg is the total number of ancestral with same name of main haplogroup\n",
    "###### total of all derived and ancestral haplogroup with the same name"
   ]
  },
  {
   "cell_type": "code",
   "execution_count": 39,
   "metadata": {},
   "outputs": [],
   "source": [
    "list_main_hg = sorted(list(set(hg)), reverse=False)\n",
    "haplogroup_threshold = 0.70\n",
    "qc_two = 0.0\n",
    "qc_tmp = 0.0\n",
    "dict_hg = {}\n",
    "\n",
    "for putative_hg in list_main_hg:\n",
    "    total_qctwo = len(df_haplogroup.loc[df_haplogroup[\"haplogroup\"] == putative_hg])\n",
    "    Ahg = np.sum(\"A\" == df_haplogroup.loc[df_haplogroup[\"haplogroup\"] == putative_hg][\"state\"])\n",
    "    try:\n",
    "        qc_tmp = round((total_qctwo-Ahg)/total_qctwo,3)\n",
    "    except ZeroDivisionError as error:\n",
    "        qc_tmp = 0.0\n",
    "    if qc_tmp >= haplogroup_threshold:\n",
    "        qc_two = qc_tmp                \n",
    "        dict_hg[putative_hg] = qc_two    \n",
    "        #print(\"{} {} ({} - {} / {})\".format(putative_hg,qc_tmp, total_qctwo,Ahg,total_qctwo))\n",
    "        #print(putative_hg)\n",
    "    #else:\n",
    "    #    print(\"{} {} ({} - {} / {})\".format(putative_hg,qc_tmp, total_qctwo,Ahg,total_qctwo))\n",
    "       \n",
    "list_putative_hg = list(dict_hg.keys())\n",
    "list_putative_hg.sort(reverse=True)\n",
    "#print(list_putative_hg)\n",
    "## Check for same pattern in the derive state\n",
    "for i in range(len(list_putative_hg)-1):    \n",
    "    if list_putative_hg[i+1] not in list_putative_hg[i]:                \n",
    "        dict_hg.pop(list_putative_hg[i],None)\n",
    "        #print(list_putative_hg[i])\n",
    "\n",
    "if len(list_putative_hg) > 0:\n",
    "    list_putative_hg = list(dict_hg.keys())\n",
    "    putative_hg = max(dict_hg.keys(), key=len)    \n",
    "    qc_two = dict_hg[putative_hg]\n",
    "else:\n",
    "    putative_hg = \"NA\"\n",
    "    qc_two = 0.0\n"
   ]
  },
  {
   "cell_type": "code",
   "execution_count": 40,
   "metadata": {},
   "outputs": [
    {
     "name": "stdout",
     "output_type": "stream",
     "text": [
      "J2b1\n",
      "1.0\n"
     ]
    }
   ],
   "source": [
    "print(putative_hg)\n",
    "print(qc_two)"
   ]
  },
  {
   "cell_type": "markdown",
   "metadata": {},
   "source": [
    "### QC.3\n",
    "Show both Ancestral and Derived states from the main haplogroup and check the preffix of each haplogroup that is before the main one until you reach the root. If there are some Ancestral states which follows the pattern/preffix from the main haplogroup keep the count of how many of these appear and this will give the total count. Substract the ones found from the corrected and this will give the QC.3 score. "
   ]
  },
  {
   "cell_type": "code",
   "execution_count": 41,
   "metadata": {},
   "outputs": [
    {
     "name": "stdout",
     "output_type": "stream",
     "text": [
      "J2b1: 0.978\n"
     ]
    }
   ],
   "source": [
    "if putative_hg != \"NA\":    \n",
    "    list_main_hg_all = []\n",
    "    list_hg_all = df_haplogroup[\"haplogroup\"].values\n",
    "    for i in list_hg_all:    \n",
    "        if i.startswith(init_hg):\n",
    "            list_main_hg_all.append(i)\n",
    "    list_main_hg_all = sorted(list(set(list_main_hg_all)), reverse=True)\n",
    "    df_main_hg_all = df_haplogroup.loc[df_haplogroup[\"haplogroup\"].isin(list_main_hg_all)]\n",
    "    df_main_hg_all = df_main_hg_all[[\"haplogroup\",\"state\",\"marker_name\"]]\n",
    "    df_main_hg_all = df_main_hg_all.sort_values(by=\"haplogroup\", ascending=False).values\n",
    "\n",
    "    qc_three = 0.0\n",
    "    a_match = 0\n",
    "    total_match = 0\n",
    "    for putative_hg in [putative_hg]:\n",
    "        for i in df_main_hg_all:\n",
    "            tmp_hg = i[0].replace(\"~\",\"\")\n",
    "            if tmp_hg in putative_hg:\n",
    "                total_match +=1        \n",
    "                if i[1] == \"A\":\n",
    "                    a_match += 1\n",
    "        qc_three = round((total_match - a_match) / total_match,3)        \n",
    "else:\n",
    "    qc_three = 0.0\n",
    "\n",
    "print(\"{}: {}\".format(putative_hg, qc_three))"
   ]
  },
  {
   "cell_type": "markdown",
   "metadata": {},
   "source": [
    "### Final output\n",
    "1) show the haplogroup name \n",
    "    if main haplogroup is a preffix from a higher resolution Ancestral state haplogroup report this haplogroup and marker name (Ex. HG: J21a Marker: L123)\n",
    "    \n",
    "2) Not J21a-L123\n",
    "\n",
    "Could be that that there are more than one contain as a preffix from an ancestral state haplogroup. Should report all of them only if there are different haplogroup name with the resolution\n",
    "**Check this in more detail later on... "
   ]
  },
  {
   "cell_type": "code",
   "execution_count": 42,
   "metadata": {},
   "outputs": [],
   "source": [
    "df_putative_ancestral_hg = df_haplogroup[df_haplogroup.haplogroup.str.startswith(putative_hg)]\n",
    "df_putative_ancestral_hg = df_putative_ancestral_hg[df_putative_ancestral_hg.state == \"A\"]\n",
    "putative_ancestral_hg = []        \n",
    "for i in df_putative_ancestral_hg.index:    \n",
    "    if putative_ancestral_hg == []:        \n",
    "        putative_ancestral_hg.append(df_putative_ancestral_hg.loc[i])                    \n",
    "    else:\n",
    "        if putative_ancestral_hg[-1][3] not in df_putative_ancestral_hg.loc[i][3]:\n",
    "            putative_ancestral_hg.append(df_putative_ancestral_hg.loc[i])\n",
    "if len(putative_ancestral_hg) > 0:\n",
    "    putative_ancestral_hg = pd.DataFrame(putative_ancestral_hg)"
   ]
  },
  {
   "cell_type": "code",
   "execution_count": 43,
   "metadata": {},
   "outputs": [
    {
     "name": "stdout",
     "output_type": "stream",
     "text": [
      "Sample_name\tHg\tHg_marker\tQC-score\tQC-1\tQC-2\tQC-3\n",
      "3DT26\tJ2b1\tJ-M205\t0.976\t0.998\t1.0\t0.978\n"
     ]
    }
   ],
   "source": [
    "out_name = sample_name.split(\"/\")[-1]\n",
    "out_name = out_name.split(\".\")[0]\n",
    "marker_name = (df_haplogroup.loc[df_haplogroup[\"haplogroup\"] == putative_hg][\"marker_name\"].values)\n",
    "if putative_hg == \"NA\":\n",
    "    out_hg = \"NA\"\n",
    "else:\n",
    "    if len(marker_name) > 1:\n",
    "        out_hg = putative_hg[0]+\"-\"+marker_name[0]+\"/etc\"\n",
    "    elif len(marker_name) == 1:\n",
    "        out_hg = putative_hg[0]+\"-\"+marker_name[0]\n",
    "    \n",
    "header = \"Sample_name\\tHg\\tHg_marker\\tQC-score\\tQC-1\\tQC-2\\tQC-3\"\n",
    "\n",
    "if len(putative_ancestral_hg) > 0:\n",
    "    out_hg += \"*(x\"\n",
    "    for i in putative_ancestral_hg.index:        \n",
    "        out_hg += putative_ancestral_hg.loc[i][\"marker_name\"]+\",\"\n",
    "    out_hg += \")\"\n",
    "\n",
    "output = \"{}\\t{}\\t{}\\t{}\\t{}\\t{}\\t{}\".format(out_name,putative_hg,out_hg,round((qc_one*qc_two*qc_three),3),qc_one,qc_two,qc_three)\n",
    "print(header)\n",
    "print(output)"
   ]
  },
  {
   "cell_type": "code",
   "execution_count": null,
   "metadata": {},
   "outputs": [],
   "source": []
  },
  {
   "cell_type": "code",
   "execution_count": null,
   "metadata": {},
   "outputs": [],
   "source": []
  },
  {
   "cell_type": "code",
   "execution_count": null,
   "metadata": {},
   "outputs": [],
   "source": []
  },
  {
   "cell_type": "code",
   "execution_count": 47,
   "metadata": {},
   "outputs": [],
   "source": []
  },
  {
   "cell_type": "code",
   "execution_count": null,
   "metadata": {},
   "outputs": [],
   "source": []
  },
  {
   "cell_type": "code",
   "execution_count": null,
   "metadata": {},
   "outputs": [],
   "source": []
  },
  {
   "cell_type": "code",
   "execution_count": null,
   "metadata": {},
   "outputs": [],
   "source": []
  },
  {
   "cell_type": "code",
   "execution_count": null,
   "metadata": {},
   "outputs": [],
   "source": []
  },
  {
   "cell_type": "code",
   "execution_count": null,
   "metadata": {},
   "outputs": [],
   "source": []
  }
 ],
 "metadata": {
  "kernelspec": {
   "display_name": "Python 3",
   "language": "python",
   "name": "python3"
  },
  "language_info": {
   "codemirror_mode": {
    "name": "ipython",
    "version": 3
   },
   "file_extension": ".py",
   "mimetype": "text/x-python",
   "name": "python",
   "nbconvert_exporter": "python",
   "pygments_lexer": "ipython3",
   "version": "3.6.5"
  }
 },
 "nbformat": 4,
 "nbformat_minor": 2
}
